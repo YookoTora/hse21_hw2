{
 "cells": [
  {
   "cell_type": "code",
   "execution_count": 1,
   "metadata": {},
   "outputs": [
    {
     "name": "stdout",
     "output_type": "stream",
     "text": [
      "gm_key_64 -> /Users/mine/.gmhmmp2_key\r\n"
     ]
    }
   ],
   "source": [
    "!cp  -v  gm_key_64   ~/.gmhmmp2_key"
   ]
  },
  {
   "cell_type": "code",
   "execution_count": 2,
   "metadata": {},
   "outputs": [],
   "source": [
    "!./gms2.pl  --seq Poil_gapClosed.fa  --genome-type bacteria  --fnn genes.fasta  --faa proteins.fasta"
   ]
  },
  {
   "cell_type": "code",
   "execution_count": 28,
   "metadata": {},
   "outputs": [
    {
     "name": "stdout",
     "output_type": "stream",
     "text": [
      "\n",
      "\n",
      "Building a new DB, current time: 01/26/2022 14:17:29\n",
      "New DB name:   /Users/mine/T_oleivorans_MIL_1.proteins\n",
      "New DB title:  /Users/mine/T_oleivorans_MIL_1.proteins.fasta\n",
      "Sequence type: Protein\n",
      "Keep MBits: T\n",
      "Maximum file size: 1000000000B\n",
      "Adding sequences from FASTA; added 3666 sequences in 0.200537 seconds.\n",
      "\n",
      "\n"
     ]
    }
   ],
   "source": [
    "!/Users/mine/Downloads/ncbi-blast-2.12.0+/bin/makeblastdb  -dbtype prot  -in /Users/mine/T_oleivorans_MIL_1.proteins.fasta  -out T_oleivorans_MIL_1.proteins"
   ]
  },
  {
   "cell_type": "code",
   "execution_count": 30,
   "metadata": {},
   "outputs": [],
   "source": [
    "!/Users/mine/Downloads/ncbi-blast-2.12.0+/bin/blastp -query /Users/mine/Downloads/gms2_macos/proteins.fasta -db /Users/mine/T_oleivorans_MIL_1.proteins -evalue 1e-10 -outfmt 6 > scaffolds.hits_from_MIL_1.txt"
   ]
  },
  {
   "cell_type": "code",
   "execution_count": 31,
   "metadata": {},
   "outputs": [],
   "source": [
    "!cut -f 1 scaffolds.hits_from_MIL_1.txt | sort -n | uniq > proteins.with_hits_from_MIL_1.txt"
   ]
  },
  {
   "cell_type": "code",
   "execution_count": 51,
   "metadata": {},
   "outputs": [
    {
     "name": "stdout",
     "output_type": "stream",
     "text": [
      "[INFO]\u001b[0m 3333 patterns loaded from file\r\n"
     ]
    }
   ],
   "source": [
    "!/Users/mine/Downloads/seqkit grep  --invert-match  -f proteins.with_hits_from_MIL_1.txt  /Users/mine/Downloads/gms2_macos/proteins.fasta   -o proteins.without_MIL_1.fasta"
   ]
  },
  {
   "cell_type": "code",
   "execution_count": 53,
   "metadata": {},
   "outputs": [
    {
     "name": "stdout",
     "output_type": "stream",
     "text": [
      "    3614\r\n"
     ]
    }
   ],
   "source": [
    "!grep '>' /Users/mine/Downloads/gms2_macos/proteins.fasta | wc -l"
   ]
  },
  {
   "cell_type": "code",
   "execution_count": 54,
   "metadata": {},
   "outputs": [
    {
     "name": "stdout",
     "output_type": "stream",
     "text": [
      "    3333 proteins.with_hits_from_MIL_1.txt\r\n"
     ]
    }
   ],
   "source": [
    "!wc -l proteins.with_hits_from_MIL_1.txt"
   ]
  },
  {
   "cell_type": "code",
   "execution_count": 55,
   "metadata": {},
   "outputs": [
    {
     "name": "stdout",
     "output_type": "stream",
     "text": [
      "     281\r\n"
     ]
    }
   ],
   "source": [
    "!grep '>' proteins.without_MIL_1.fasta | wc -l"
   ]
  },
  {
   "cell_type": "code",
   "execution_count": 57,
   "metadata": {},
   "outputs": [
    {
     "name": "stdout",
     "output_type": "stream",
     "text": [
      "\n",
      "\n",
      "Building a new DB, current time: 01/26/2022 14:55:28\n",
      "New DB name:   /Users/mine/uniprot_sprot\n",
      "New DB title:  /Users/mine/uniprot_sprot.fasta\n",
      "Sequence type: Protein\n",
      "Deleted existing Protein BLAST database named /Users/mine/uniprot_sprot\n",
      "Keep MBits: T\n",
      "Maximum file size: 1000000000B\n",
      "Adding sequences from FASTA; added 565928 sequences in 41.6182 seconds.\n",
      "\n",
      "\n"
     ]
    }
   ],
   "source": [
    "!/Users/mine/Downloads/ncbi-blast-2.12.0+/bin/makeblastdb  -dbtype prot  -in /Users/mine/uniprot_sprot.fasta  -out uniprot_sprot"
   ]
  },
  {
   "cell_type": "code",
   "execution_count": 58,
   "metadata": {},
   "outputs": [
    {
     "name": "stdout",
     "output_type": "stream",
     "text": [
      "\r\n",
      "real\t17m45.355s\r\n",
      "user\t14m45.213s\r\n",
      "sys\t0m33.703s\r\n"
     ]
    }
   ],
   "source": [
    "!time  /Users/mine/Downloads/ncbi-blast-2.12.0+/bin/blastp  -query /Users/mine/proteins.without_MIL_1.fasta  -db /Users/mine/uniprot_sprot  -evalue 1e-10  -outfmt 6  >  scaffolds.hits_from_SwissProt.txt"
   ]
  },
  {
   "cell_type": "code",
   "execution_count": 59,
   "metadata": {},
   "outputs": [
    {
     "name": "stdout",
     "output_type": "stream",
     "text": [
      "      52\r\n"
     ]
    }
   ],
   "source": [
    "!cut -f 1 scaffolds.hits_from_SwissProt.txt | sort | uniq | wc -l"
   ]
  },
  {
   "cell_type": "code",
   "execution_count": null,
   "metadata": {},
   "outputs": [],
   "source": []
  }
 ],
 "metadata": {
  "kernelspec": {
   "display_name": "Python 3",
   "language": "python",
   "name": "python3"
  },
  "language_info": {
   "codemirror_mode": {
    "name": "ipython",
    "version": 3
   },
   "file_extension": ".py",
   "mimetype": "text/x-python",
   "name": "python",
   "nbconvert_exporter": "python",
   "pygments_lexer": "ipython3",
   "version": "3.8.2"
  }
 },
 "nbformat": 4,
 "nbformat_minor": 4
}
