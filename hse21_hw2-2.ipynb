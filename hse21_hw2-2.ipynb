{
 "cells": [
  {
   "cell_type": "code",
   "execution_count": 1,
   "metadata": {
    "scrolled": true
   },
   "outputs": [
    {
     "name": "stdout",
     "output_type": "stream",
     "text": [
      "--2022-02-03 18:20:43--  https://raw.githubusercontent.com/YookoTora/hse21_hw2/main/gms2.lst\n",
      "Распознаётся raw.githubusercontent.com (raw.githubusercontent.com)… 185.199.111.133, 185.199.109.133, 185.199.110.133, ...\n",
      "Подключение к raw.githubusercontent.com (raw.githubusercontent.com)|185.199.111.133|:443... соединение установлено.\n",
      "HTTP-запрос отправлен. Ожидание ответа… 200 OK\n",
      "Длина: 221337 (216K) [text/plain]\n",
      "Сохранение в: «gms2.lst.5»\n",
      "\n",
      "gms2.lst.5          100%[===================>] 216,15K  --.-KB/s    за 0,09s   \n",
      "\n",
      "2022-02-03 18:20:44 (2,31 MB/s) - «gms2.lst.5» сохранён [221337/221337]\n",
      "\n"
     ]
    }
   ],
   "source": [
    "!wget https://raw.githubusercontent.com/YookoTora/hse21_hw2/main/gms2.lst"
   ]
  },
  {
   "cell_type": "code",
   "execution_count": 2,
   "metadata": {},
   "outputs": [
    {
     "name": "stdout",
     "output_type": "stream",
     "text": [
      "--2022-02-03 18:20:44--  https://raw.githubusercontent.com/YookoTora/hse21_hw2/main/scaffolds.hits_from_MIL_1.txt\n",
      "Распознаётся raw.githubusercontent.com (raw.githubusercontent.com)… 185.199.109.133, 185.199.110.133, 185.199.111.133, ...\n",
      "Подключение к raw.githubusercontent.com (raw.githubusercontent.com)|185.199.109.133|:443... соединение установлено.\n",
      "HTTP-запрос отправлен. Ожидание ответа… 200 OK\n",
      "Длина: 873076 (853K) [text/plain]\n",
      "Сохранение в: «scaffolds.hits_from_MIL_1.txt.2»\n",
      "\n",
      "scaffolds.hits_from 100%[===================>] 852,61K  3,65MB/s    за 0,2s    \n",
      "\n",
      "2022-02-03 18:20:45 (3,65 MB/s) - «scaffolds.hits_from_MIL_1.txt.2» сохранён [873076/873076]\n",
      "\n"
     ]
    }
   ],
   "source": [
    "!wget https://raw.githubusercontent.com/YookoTora/hse21_hw2/main/scaffolds.hits_from_MIL_1.txt"
   ]
  },
  {
   "cell_type": "code",
   "execution_count": 3,
   "metadata": {},
   "outputs": [
    {
     "name": "stdout",
     "output_type": "stream",
     "text": [
      "--2022-02-03 18:20:45--  https://raw.githubusercontent.com/YookoTora/hse21_hw2/main/proteins.fasta\n",
      "Распознаётся raw.githubusercontent.com (raw.githubusercontent.com)… 185.199.110.133, 185.199.111.133, 185.199.108.133, ...\n",
      "Подключение к raw.githubusercontent.com (raw.githubusercontent.com)|185.199.110.133|:443... соединение установлено.\n",
      "HTTP-запрос отправлен. Ожидание ответа… 200 OK\n",
      "Длина: 1402796 (1,3M) [text/plain]\n",
      "Сохранение в: «proteins.fasta.3»\n",
      "\n",
      "proteins.fasta.3    100%[===================>]   1,34M   662KB/s    за 2,1s    \n",
      "\n",
      "2022-02-03 18:20:48 (662 KB/s) - «proteins.fasta.3» сохранён [1402796/1402796]\n",
      "\n"
     ]
    }
   ],
   "source": [
    "!wget https://raw.githubusercontent.com/YookoTora/hse21_hw2/main/proteins.fasta"
   ]
  },
  {
   "cell_type": "code",
   "execution_count": 4,
   "metadata": {},
   "outputs": [
    {
     "name": "stdout",
     "output_type": "stream",
     "text": [
      "--2022-02-03 18:20:48--  https://raw.githubusercontent.com/YookoTora/hse21_hw1/main/Poil_gapClosed.fa\n",
      "Распознаётся raw.githubusercontent.com (raw.githubusercontent.com)… 185.199.111.133, 185.199.108.133, 185.199.109.133, ...\n",
      "Подключение к raw.githubusercontent.com (raw.githubusercontent.com)|185.199.111.133|:443... соединение установлено.\n",
      "HTTP-запрос отправлен. Ожидание ответа… 200 OK\n",
      "Длина: 3963861 (3,8M) [text/plain]\n",
      "Сохранение в: «Poil_gapClosed.fa.3»\n",
      "\n",
      "Poil_gapClosed.fa.3 100%[===================>]   3,78M  3,15MB/s    за 1,2s    \n",
      "\n",
      "2022-02-03 18:20:50 (3,15 MB/s) - «Poil_gapClosed.fa.3» сохранён [3963861/3963861]\n",
      "\n"
     ]
    }
   ],
   "source": [
    "!wget https://raw.githubusercontent.com/YookoTora/hse21_hw1/main/Poil_gapClosed.fa"
   ]
  },
  {
   "cell_type": "code",
   "execution_count": 5,
   "metadata": {
    "scrolled": true
   },
   "outputs": [
    {
     "name": "stdout",
     "output_type": "stream",
     "text": [
      "--2022-02-03 18:20:51--  https://raw.githubusercontent.com/YookoTora/hse21_hw2/main/scaffolds.hits_from_SwissProt.txt\n",
      "Распознаётся raw.githubusercontent.com (raw.githubusercontent.com)… 185.199.111.133, 185.199.108.133, 185.199.109.133, ...\n",
      "Подключение к raw.githubusercontent.com (raw.githubusercontent.com)|185.199.111.133|:443... соединение установлено.\n",
      "HTTP-запрос отправлен. Ожидание ответа… 200 OK\n",
      "Длина: 65267 (64K) [text/plain]\n",
      "Сохранение в: «scaffolds.hits_from_SwissProt.txt.2»\n",
      "\n",
      "scaffolds.hits_from 100%[===================>]  63,74K  --.-KB/s    за 0,07s   \n",
      "\n",
      "2022-02-03 18:20:51 (859 KB/s) - «scaffolds.hits_from_SwissProt.txt.2» сохранён [65267/65267]\n",
      "\n"
     ]
    }
   ],
   "source": [
    "!wget https://raw.githubusercontent.com/YookoTora/hse21_hw2/main/scaffolds.hits_from_SwissProt.txt"
   ]
  },
  {
   "cell_type": "code",
   "execution_count": 6,
   "metadata": {},
   "outputs": [
    {
     "name": "stdout",
     "output_type": "stream",
     "text": [
      "\r\n",
      "Entrez Direct has been successfully downloaded and installed.\r\n",
      "\r\n"
     ]
    }
   ],
   "source": [
    "!sh -c \"$(curl -fsSL ftp://ftp.ncbi.nlm.nih.gov/entrez/entrezdirect/install-edirect.sh)\""
   ]
  },
  {
   "cell_type": "code",
   "execution_count": 7,
   "metadata": {},
   "outputs": [],
   "source": [
    "!$HOME/edirect/efetch -db nuccore -id HF680312 -format gb  >  T_oleivorans_MIL_1.gbk"
   ]
  },
  {
   "cell_type": "code",
   "execution_count": 8,
   "metadata": {},
   "outputs": [
    {
     "name": "stdout",
     "output_type": "stream",
     "text": [
      "Requirement already satisfied: biopython in /Library/Frameworks/Python.framework/Versions/3.8/lib/python3.8/site-packages (1.79)\n",
      "Requirement already satisfied: numpy in /Library/Frameworks/Python.framework/Versions/3.8/lib/python3.8/site-packages (from biopython) (1.18.2)\n",
      "\u001b[33mWARNING: You are using pip version 21.3.1; however, version 22.0.3 is available.\n",
      "You should consider upgrading via the '/Library/Frameworks/Python.framework/Versions/3.8/bin/python3.8 -m pip install --upgrade pip' command.\u001b[0m\n"
     ]
    }
   ],
   "source": [
    "!pip install biopython"
   ]
  },
  {
   "cell_type": "code",
   "execution_count": 9,
   "metadata": {},
   "outputs": [],
   "source": [
    "from Bio import SeqIO\n",
    "from Bio.SeqFeature import SeqFeature, FeatureLocation\n",
    "from datetime import datetime as dt\n",
    "import pandas as pd"
   ]
  },
  {
   "cell_type": "code",
   "execution_count": 10,
   "metadata": {},
   "outputs": [],
   "source": [
    "scaffolds = dict()\n",
    "for record in SeqIO.parse(\"Poil_gapClosed.fa\", \"fasta\"):\n",
    "    record.annotations['molecule_type'] = 'DNA'\n",
    "    record.annotations['date'] = dt.now().strftime(\"%d-%b-%Y\").upper()\n",
    "    record.annotations['data_file_division'] = 'BCT'\n",
    "    scaffolds[record.id] = record"
   ]
  },
  {
   "cell_type": "code",
   "execution_count": 11,
   "metadata": {
    "scrolled": true
   },
   "outputs": [],
   "source": [
    "genes = dict()\n",
    "for gene in SeqIO.parse(\"proteins.fasta\", \"fasta\"):\n",
    "    desc = gene.description.split(' ')\n",
    "    scaffold = desc[1]\n",
    "    start, end = int(desc[2]), int(desc[3])\n",
    "    strand = 1 if desc[4] == '+' else -1\n",
    "\n",
    "    feat = SeqFeature(FeatureLocation(start, end, strand=strand), type=\"CDS\")\n",
    "    feat.qualifiers['locus_tag'] = [desc[0]]\n",
    "    feat.qualifiers['translation'] = [gene.seq]\n",
    "    scaffolds[scaffold].features.append(feat)\n",
    "\n",
    "    genes[desc[0]] = feat\n",
    "    "
   ]
  },
  {
   "cell_type": "code",
   "execution_count": 12,
   "metadata": {},
   "outputs": [
    {
     "name": "stdout",
     "output_type": "stream",
     "text": [
      "OrderedDict([('locus_tag', ['3614']), ('translation', [Seq('GLPLYRMETIFKRMGIHLPRNTLANWMIKSSECLQPLYNLLNDQLLESGYLHMD...DDY')])])\n"
     ]
    }
   ],
   "source": [
    "print(feat.qualifiers)"
   ]
  },
  {
   "cell_type": "code",
   "execution_count": 13,
   "metadata": {},
   "outputs": [],
   "source": [
    "mil1genes = dict()\n",
    "for feat in SeqIO.read(\"T_oleivorans_MIL_1.gbk\", \"genbank\").features:\n",
    "    if 'protein_id' not in feat.qualifiers:\n",
    "        continue\n",
    "    if 'product' not in feat.qualifiers:\n",
    "        continue\n",
    "  \n",
    "    mil1genes[feat.qualifiers['protein_id'][0]] = feat.qualifiers['product'][0]"
   ]
  },
  {
   "cell_type": "code",
   "execution_count": 14,
   "metadata": {},
   "outputs": [
    {
     "data": {
      "text/html": [
       "<div>\n",
       "<style scoped>\n",
       "    .dataframe tbody tr th:only-of-type {\n",
       "        vertical-align: middle;\n",
       "    }\n",
       "\n",
       "    .dataframe tbody tr th {\n",
       "        vertical-align: top;\n",
       "    }\n",
       "\n",
       "    .dataframe thead th {\n",
       "        text-align: right;\n",
       "    }\n",
       "</style>\n",
       "<table border=\"1\" class=\"dataframe\">\n",
       "  <thead>\n",
       "    <tr style=\"text-align: right;\">\n",
       "      <th></th>\n",
       "      <th>qseqid</th>\n",
       "      <th>sseqid</th>\n",
       "      <th>pident</th>\n",
       "      <th>length</th>\n",
       "      <th>mismatch</th>\n",
       "      <th>gapopen</th>\n",
       "      <th>qstart</th>\n",
       "      <th>qend</th>\n",
       "      <th>sstart</th>\n",
       "      <th>send</th>\n",
       "      <th>evalue</th>\n",
       "      <th>bitscore</th>\n",
       "    </tr>\n",
       "  </thead>\n",
       "  <tbody>\n",
       "    <tr>\n",
       "      <th>0</th>\n",
       "      <td>1</td>\n",
       "      <td>lcl|HF680312.1_prot_CCU71653.1_1204</td>\n",
       "      <td>98.990</td>\n",
       "      <td>99</td>\n",
       "      <td>1</td>\n",
       "      <td>0</td>\n",
       "      <td>1</td>\n",
       "      <td>99</td>\n",
       "      <td>1</td>\n",
       "      <td>99</td>\n",
       "      <td>8.080000e-68</td>\n",
       "      <td>196.0</td>\n",
       "    </tr>\n",
       "    <tr>\n",
       "      <th>1</th>\n",
       "      <td>1</td>\n",
       "      <td>lcl|HF680312.1_prot_CCU72283.1_1834</td>\n",
       "      <td>97.980</td>\n",
       "      <td>99</td>\n",
       "      <td>2</td>\n",
       "      <td>0</td>\n",
       "      <td>1</td>\n",
       "      <td>99</td>\n",
       "      <td>1</td>\n",
       "      <td>99</td>\n",
       "      <td>2.290000e-67</td>\n",
       "      <td>194.0</td>\n",
       "    </tr>\n",
       "    <tr>\n",
       "      <th>2</th>\n",
       "      <td>1</td>\n",
       "      <td>lcl|HF680312.1_prot_CCU71933.1_1484</td>\n",
       "      <td>97.980</td>\n",
       "      <td>99</td>\n",
       "      <td>2</td>\n",
       "      <td>0</td>\n",
       "      <td>1</td>\n",
       "      <td>99</td>\n",
       "      <td>1</td>\n",
       "      <td>99</td>\n",
       "      <td>4.150000e-66</td>\n",
       "      <td>191.0</td>\n",
       "    </tr>\n",
       "    <tr>\n",
       "      <th>3</th>\n",
       "      <td>1</td>\n",
       "      <td>lcl|HF680312.1_prot_CCU71592.1_1143</td>\n",
       "      <td>97.980</td>\n",
       "      <td>99</td>\n",
       "      <td>2</td>\n",
       "      <td>0</td>\n",
       "      <td>1</td>\n",
       "      <td>99</td>\n",
       "      <td>1</td>\n",
       "      <td>99</td>\n",
       "      <td>4.150000e-66</td>\n",
       "      <td>191.0</td>\n",
       "    </tr>\n",
       "    <tr>\n",
       "      <th>4</th>\n",
       "      <td>1</td>\n",
       "      <td>lcl|HF680312.1_prot_CCU71865.1_1416</td>\n",
       "      <td>96.774</td>\n",
       "      <td>62</td>\n",
       "      <td>2</td>\n",
       "      <td>0</td>\n",
       "      <td>1</td>\n",
       "      <td>62</td>\n",
       "      <td>1</td>\n",
       "      <td>62</td>\n",
       "      <td>2.150000e-42</td>\n",
       "      <td>130.0</td>\n",
       "    </tr>\n",
       "    <tr>\n",
       "      <th>...</th>\n",
       "      <td>...</td>\n",
       "      <td>...</td>\n",
       "      <td>...</td>\n",
       "      <td>...</td>\n",
       "      <td>...</td>\n",
       "      <td>...</td>\n",
       "      <td>...</td>\n",
       "      <td>...</td>\n",
       "      <td>...</td>\n",
       "      <td>...</td>\n",
       "      <td>...</td>\n",
       "      <td>...</td>\n",
       "    </tr>\n",
       "    <tr>\n",
       "      <th>10552</th>\n",
       "      <td>3614</td>\n",
       "      <td>lcl|HF680312.1_prot_CCU73517.1_3068</td>\n",
       "      <td>96.552</td>\n",
       "      <td>116</td>\n",
       "      <td>4</td>\n",
       "      <td>0</td>\n",
       "      <td>1</td>\n",
       "      <td>116</td>\n",
       "      <td>216</td>\n",
       "      <td>331</td>\n",
       "      <td>4.090000e-80</td>\n",
       "      <td>241.0</td>\n",
       "    </tr>\n",
       "    <tr>\n",
       "      <th>10553</th>\n",
       "      <td>3614</td>\n",
       "      <td>lcl|HF680312.1_prot_CCU73713.1_3264</td>\n",
       "      <td>96.552</td>\n",
       "      <td>116</td>\n",
       "      <td>4</td>\n",
       "      <td>0</td>\n",
       "      <td>1</td>\n",
       "      <td>116</td>\n",
       "      <td>216</td>\n",
       "      <td>331</td>\n",
       "      <td>5.770000e-80</td>\n",
       "      <td>241.0</td>\n",
       "    </tr>\n",
       "    <tr>\n",
       "      <th>10554</th>\n",
       "      <td>3614</td>\n",
       "      <td>lcl|HF680312.1_prot_CCU73876.1_3427</td>\n",
       "      <td>96.552</td>\n",
       "      <td>116</td>\n",
       "      <td>4</td>\n",
       "      <td>0</td>\n",
       "      <td>1</td>\n",
       "      <td>116</td>\n",
       "      <td>223</td>\n",
       "      <td>338</td>\n",
       "      <td>8.800000e-80</td>\n",
       "      <td>241.0</td>\n",
       "    </tr>\n",
       "    <tr>\n",
       "      <th>10555</th>\n",
       "      <td>3614</td>\n",
       "      <td>lcl|HF680312.1_prot_CCU73197.1_2748</td>\n",
       "      <td>96.552</td>\n",
       "      <td>116</td>\n",
       "      <td>4</td>\n",
       "      <td>0</td>\n",
       "      <td>1</td>\n",
       "      <td>116</td>\n",
       "      <td>223</td>\n",
       "      <td>338</td>\n",
       "      <td>8.800000e-80</td>\n",
       "      <td>241.0</td>\n",
       "    </tr>\n",
       "    <tr>\n",
       "      <th>10556</th>\n",
       "      <td>3614</td>\n",
       "      <td>lcl|HF680312.1_prot_CCU73034.1_2585</td>\n",
       "      <td>96.552</td>\n",
       "      <td>116</td>\n",
       "      <td>4</td>\n",
       "      <td>0</td>\n",
       "      <td>1</td>\n",
       "      <td>116</td>\n",
       "      <td>223</td>\n",
       "      <td>338</td>\n",
       "      <td>8.800000e-80</td>\n",
       "      <td>241.0</td>\n",
       "    </tr>\n",
       "  </tbody>\n",
       "</table>\n",
       "<p>10557 rows × 12 columns</p>\n",
       "</div>"
      ],
      "text/plain": [
       "       qseqid                               sseqid  pident  length  mismatch  \\\n",
       "0           1  lcl|HF680312.1_prot_CCU71653.1_1204  98.990      99         1   \n",
       "1           1  lcl|HF680312.1_prot_CCU72283.1_1834  97.980      99         2   \n",
       "2           1  lcl|HF680312.1_prot_CCU71933.1_1484  97.980      99         2   \n",
       "3           1  lcl|HF680312.1_prot_CCU71592.1_1143  97.980      99         2   \n",
       "4           1  lcl|HF680312.1_prot_CCU71865.1_1416  96.774      62         2   \n",
       "...       ...                                  ...     ...     ...       ...   \n",
       "10552    3614  lcl|HF680312.1_prot_CCU73517.1_3068  96.552     116         4   \n",
       "10553    3614  lcl|HF680312.1_prot_CCU73713.1_3264  96.552     116         4   \n",
       "10554    3614  lcl|HF680312.1_prot_CCU73876.1_3427  96.552     116         4   \n",
       "10555    3614  lcl|HF680312.1_prot_CCU73197.1_2748  96.552     116         4   \n",
       "10556    3614  lcl|HF680312.1_prot_CCU73034.1_2585  96.552     116         4   \n",
       "\n",
       "       gapopen  qstart  qend  sstart  send        evalue  bitscore  \n",
       "0            0       1    99       1    99  8.080000e-68     196.0  \n",
       "1            0       1    99       1    99  2.290000e-67     194.0  \n",
       "2            0       1    99       1    99  4.150000e-66     191.0  \n",
       "3            0       1    99       1    99  4.150000e-66     191.0  \n",
       "4            0       1    62       1    62  2.150000e-42     130.0  \n",
       "...        ...     ...   ...     ...   ...           ...       ...  \n",
       "10552        0       1   116     216   331  4.090000e-80     241.0  \n",
       "10553        0       1   116     216   331  5.770000e-80     241.0  \n",
       "10554        0       1   116     223   338  8.800000e-80     241.0  \n",
       "10555        0       1   116     223   338  8.800000e-80     241.0  \n",
       "10556        0       1   116     223   338  8.800000e-80     241.0  \n",
       "\n",
       "[10557 rows x 12 columns]"
      ]
     },
     "execution_count": 14,
     "metadata": {},
     "output_type": "execute_result"
    }
   ],
   "source": [
    "names = ['qseqid', 'sseqid', 'pident', 'length', 'mismatch', 'gapopen', 'qstart', 'qend', 'sstart', 'send', 'evalue', 'bitscore']\n",
    "mil1hits = pd.read_csv('scaffolds.hits_from_MIL_1.txt', sep='\\t', header=None, names=names)\n",
    "mil1hits"
   ]
  },
  {
   "cell_type": "code",
   "execution_count": 15,
   "metadata": {},
   "outputs": [
    {
     "data": {
      "text/html": [
       "<div>\n",
       "<style scoped>\n",
       "    .dataframe tbody tr th:only-of-type {\n",
       "        vertical-align: middle;\n",
       "    }\n",
       "\n",
       "    .dataframe tbody tr th {\n",
       "        vertical-align: top;\n",
       "    }\n",
       "\n",
       "    .dataframe thead th {\n",
       "        text-align: right;\n",
       "    }\n",
       "</style>\n",
       "<table border=\"1\" class=\"dataframe\">\n",
       "  <thead>\n",
       "    <tr style=\"text-align: right;\">\n",
       "      <th></th>\n",
       "      <th>qseqid</th>\n",
       "      <th>sseqid</th>\n",
       "      <th>pident</th>\n",
       "      <th>length</th>\n",
       "      <th>mismatch</th>\n",
       "      <th>gapopen</th>\n",
       "      <th>qstart</th>\n",
       "      <th>qend</th>\n",
       "      <th>sstart</th>\n",
       "      <th>send</th>\n",
       "      <th>evalue</th>\n",
       "      <th>bitscore</th>\n",
       "    </tr>\n",
       "  </thead>\n",
       "  <tbody>\n",
       "    <tr>\n",
       "      <th>2833</th>\n",
       "      <td>1023</td>\n",
       "      <td>lcl|HF680312.1_prot_CCU73896.1_3447</td>\n",
       "      <td>98.979</td>\n",
       "      <td>2253</td>\n",
       "      <td>23</td>\n",
       "      <td>0</td>\n",
       "      <td>1</td>\n",
       "      <td>2253</td>\n",
       "      <td>1</td>\n",
       "      <td>2253</td>\n",
       "      <td>0.000000e+00</td>\n",
       "      <td>4296.0</td>\n",
       "    </tr>\n",
       "    <tr>\n",
       "      <th>4240</th>\n",
       "      <td>1485</td>\n",
       "      <td>lcl|HF680312.1_prot_CCU70724.1_275</td>\n",
       "      <td>97.870</td>\n",
       "      <td>2113</td>\n",
       "      <td>43</td>\n",
       "      <td>1</td>\n",
       "      <td>7</td>\n",
       "      <td>2119</td>\n",
       "      <td>1</td>\n",
       "      <td>2111</td>\n",
       "      <td>0.000000e+00</td>\n",
       "      <td>4158.0</td>\n",
       "    </tr>\n",
       "    <tr>\n",
       "      <th>9142</th>\n",
       "      <td>3217</td>\n",
       "      <td>lcl|HF680312.1_prot_CCU71900.1_1451</td>\n",
       "      <td>99.878</td>\n",
       "      <td>1640</td>\n",
       "      <td>2</td>\n",
       "      <td>0</td>\n",
       "      <td>1</td>\n",
       "      <td>1640</td>\n",
       "      <td>1</td>\n",
       "      <td>1640</td>\n",
       "      <td>0.000000e+00</td>\n",
       "      <td>3406.0</td>\n",
       "    </tr>\n",
       "    <tr>\n",
       "      <th>2611</th>\n",
       "      <td>947</td>\n",
       "      <td>lcl|HF680312.1_prot_CCU73861.1_3412</td>\n",
       "      <td>99.214</td>\n",
       "      <td>1654</td>\n",
       "      <td>13</td>\n",
       "      <td>0</td>\n",
       "      <td>1</td>\n",
       "      <td>1654</td>\n",
       "      <td>1</td>\n",
       "      <td>1654</td>\n",
       "      <td>0.000000e+00</td>\n",
       "      <td>3372.0</td>\n",
       "    </tr>\n",
       "    <tr>\n",
       "      <th>9919</th>\n",
       "      <td>3493</td>\n",
       "      <td>lcl|HF680312.1_prot_CCU71621.1_1172</td>\n",
       "      <td>99.690</td>\n",
       "      <td>1611</td>\n",
       "      <td>5</td>\n",
       "      <td>0</td>\n",
       "      <td>1</td>\n",
       "      <td>1611</td>\n",
       "      <td>1</td>\n",
       "      <td>1611</td>\n",
       "      <td>0.000000e+00</td>\n",
       "      <td>3338.0</td>\n",
       "    </tr>\n",
       "    <tr>\n",
       "      <th>...</th>\n",
       "      <td>...</td>\n",
       "      <td>...</td>\n",
       "      <td>...</td>\n",
       "      <td>...</td>\n",
       "      <td>...</td>\n",
       "      <td>...</td>\n",
       "      <td>...</td>\n",
       "      <td>...</td>\n",
       "      <td>...</td>\n",
       "      <td>...</td>\n",
       "      <td>...</td>\n",
       "      <td>...</td>\n",
       "    </tr>\n",
       "    <tr>\n",
       "      <th>9221</th>\n",
       "      <td>3259</td>\n",
       "      <td>lcl|HF680312.1_prot_CCU73367.1_2918</td>\n",
       "      <td>41.096</td>\n",
       "      <td>73</td>\n",
       "      <td>43</td>\n",
       "      <td>0</td>\n",
       "      <td>5</td>\n",
       "      <td>77</td>\n",
       "      <td>8</td>\n",
       "      <td>80</td>\n",
       "      <td>7.960000e-13</td>\n",
       "      <td>54.7</td>\n",
       "    </tr>\n",
       "    <tr>\n",
       "      <th>8055</th>\n",
       "      <td>2816</td>\n",
       "      <td>lcl|HF680312.1_prot_CCU72347.1_1898</td>\n",
       "      <td>29.592</td>\n",
       "      <td>98</td>\n",
       "      <td>63</td>\n",
       "      <td>2</td>\n",
       "      <td>16</td>\n",
       "      <td>112</td>\n",
       "      <td>4</td>\n",
       "      <td>96</td>\n",
       "      <td>1.250000e-11</td>\n",
       "      <td>53.5</td>\n",
       "    </tr>\n",
       "    <tr>\n",
       "      <th>10282</th>\n",
       "      <td>3571</td>\n",
       "      <td>lcl|HF680312.1_prot_CCU73193.1_2744</td>\n",
       "      <td>29.592</td>\n",
       "      <td>98</td>\n",
       "      <td>63</td>\n",
       "      <td>2</td>\n",
       "      <td>16</td>\n",
       "      <td>112</td>\n",
       "      <td>4</td>\n",
       "      <td>96</td>\n",
       "      <td>1.250000e-11</td>\n",
       "      <td>53.5</td>\n",
       "    </tr>\n",
       "    <tr>\n",
       "      <th>4800</th>\n",
       "      <td>1681</td>\n",
       "      <td>lcl|HF680312.1_prot_CCU72336.1_1887</td>\n",
       "      <td>29.592</td>\n",
       "      <td>98</td>\n",
       "      <td>63</td>\n",
       "      <td>2</td>\n",
       "      <td>16</td>\n",
       "      <td>112</td>\n",
       "      <td>4</td>\n",
       "      <td>96</td>\n",
       "      <td>1.250000e-11</td>\n",
       "      <td>53.5</td>\n",
       "    </tr>\n",
       "    <tr>\n",
       "      <th>5997</th>\n",
       "      <td>2118</td>\n",
       "      <td>lcl|HF680312.1_prot_CCU73039.1_2590</td>\n",
       "      <td>100.000</td>\n",
       "      <td>28</td>\n",
       "      <td>0</td>\n",
       "      <td>0</td>\n",
       "      <td>1</td>\n",
       "      <td>28</td>\n",
       "      <td>1</td>\n",
       "      <td>28</td>\n",
       "      <td>5.730000e-12</td>\n",
       "      <td>50.1</td>\n",
       "    </tr>\n",
       "  </tbody>\n",
       "</table>\n",
       "<p>3333 rows × 12 columns</p>\n",
       "</div>"
      ],
      "text/plain": [
       "       qseqid                               sseqid   pident  length  mismatch  \\\n",
       "2833     1023  lcl|HF680312.1_prot_CCU73896.1_3447   98.979    2253        23   \n",
       "4240     1485   lcl|HF680312.1_prot_CCU70724.1_275   97.870    2113        43   \n",
       "9142     3217  lcl|HF680312.1_prot_CCU71900.1_1451   99.878    1640         2   \n",
       "2611      947  lcl|HF680312.1_prot_CCU73861.1_3412   99.214    1654        13   \n",
       "9919     3493  lcl|HF680312.1_prot_CCU71621.1_1172   99.690    1611         5   \n",
       "...       ...                                  ...      ...     ...       ...   \n",
       "9221     3259  lcl|HF680312.1_prot_CCU73367.1_2918   41.096      73        43   \n",
       "8055     2816  lcl|HF680312.1_prot_CCU72347.1_1898   29.592      98        63   \n",
       "10282    3571  lcl|HF680312.1_prot_CCU73193.1_2744   29.592      98        63   \n",
       "4800     1681  lcl|HF680312.1_prot_CCU72336.1_1887   29.592      98        63   \n",
       "5997     2118  lcl|HF680312.1_prot_CCU73039.1_2590  100.000      28         0   \n",
       "\n",
       "       gapopen  qstart  qend  sstart  send        evalue  bitscore  \n",
       "2833         0       1  2253       1  2253  0.000000e+00    4296.0  \n",
       "4240         1       7  2119       1  2111  0.000000e+00    4158.0  \n",
       "9142         0       1  1640       1  1640  0.000000e+00    3406.0  \n",
       "2611         0       1  1654       1  1654  0.000000e+00    3372.0  \n",
       "9919         0       1  1611       1  1611  0.000000e+00    3338.0  \n",
       "...        ...     ...   ...     ...   ...           ...       ...  \n",
       "9221         0       5    77       8    80  7.960000e-13      54.7  \n",
       "8055         2      16   112       4    96  1.250000e-11      53.5  \n",
       "10282        2      16   112       4    96  1.250000e-11      53.5  \n",
       "4800         2      16   112       4    96  1.250000e-11      53.5  \n",
       "5997         0       1    28       1    28  5.730000e-12      50.1  \n",
       "\n",
       "[3333 rows x 12 columns]"
      ]
     },
     "execution_count": 15,
     "metadata": {},
     "output_type": "execute_result"
    }
   ],
   "source": [
    "hits = mil1hits[mil1hits['sseqid'].str.contains(\"CCU\")].sort_values('bitscore', ascending=False).drop_duplicates('qseqid')\n",
    "hits"
   ]
  },
  {
   "cell_type": "code",
   "execution_count": 16,
   "metadata": {},
   "outputs": [],
   "source": [
    "for i, hit in hits.iterrows():\n",
    "    gene = genes[str(hit['qseqid'])]\n",
    "    match = hit['sseqid'].split('_')[2]\n",
    "    gene.qualifiers['product'] = [mil1genes[match]]"
   ]
  },
  {
   "cell_type": "code",
   "execution_count": 19,
   "metadata": {},
   "outputs": [],
   "source": [
    "# Бонус"
   ]
  },
  {
   "cell_type": "code",
   "execution_count": null,
   "metadata": {},
   "outputs": [],
   "source": [
    "!wget -nc https://ftp.uniprot.org/pub/databases/uniprot/current_release/knowledgebase/complete/uniprot_sprot.dat.gz\n",
    "!gzip -d uniprot_sprot.dat.gz"
   ]
  },
  {
   "cell_type": "code",
   "execution_count": 20,
   "metadata": {},
   "outputs": [],
   "source": [
    "!grep '^ID\\|^DE   RecName: Full=' uniprot_sprot.dat > SwissProt_names.txt"
   ]
  },
  {
   "cell_type": "code",
   "execution_count": 21,
   "metadata": {},
   "outputs": [],
   "source": [
    "previd = None\n",
    "swissgenes = dict()\n",
    "for line in open('SwissProt_names.txt'):\n",
    "    if line.startswith('ID'):\n",
    "        previd = line.split()[1]\n",
    "    if line.startswith('DE'):\n",
    "        swissgenes[previd] = line.split('=')[1][:-2]"
   ]
  },
  {
   "cell_type": "code",
   "execution_count": 22,
   "metadata": {},
   "outputs": [],
   "source": [
    "swisshits_raw = pd.read_csv('scaffolds.hits_from_SwissProt.txt', sep='\\t', header=None, names=names)\n",
    "swisshits = swisshits_raw.sort_values('bitscore', ascending=False).drop_duplicates('qseqid')\n",
    "\n",
    "for i, hit in swisshits.iterrows():\n",
    "    gene = genes[str(hit['qseqid'])]\n",
    "    match = hit['sseqid'].split('|')[-1]\n",
    "    gene.qualifiers['product'] = [swissgenes[match]]"
   ]
  },
  {
   "cell_type": "code",
   "execution_count": 23,
   "metadata": {},
   "outputs": [
    {
     "data": {
      "text/plain": [
       "74"
      ]
     },
     "execution_count": 23,
     "metadata": {},
     "output_type": "execute_result"
    }
   ],
   "source": [
    "SeqIO.write(scaffolds.values(), \"GENOME.gbk\", \"genbank\")"
   ]
  },
  {
   "cell_type": "code",
   "execution_count": null,
   "metadata": {},
   "outputs": [],
   "source": []
  }
 ],
 "metadata": {
  "kernelspec": {
   "display_name": "Python 3",
   "language": "python",
   "name": "python3"
  },
  "language_info": {
   "codemirror_mode": {
    "name": "ipython",
    "version": 3
   },
   "file_extension": ".py",
   "mimetype": "text/x-python",
   "name": "python",
   "nbconvert_exporter": "python",
   "pygments_lexer": "ipython3",
   "version": "3.8.2"
  }
 },
 "nbformat": 4,
 "nbformat_minor": 4
}
